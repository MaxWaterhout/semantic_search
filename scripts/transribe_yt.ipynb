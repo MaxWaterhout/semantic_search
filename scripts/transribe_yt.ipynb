{
 "cells": [
  {
   "cell_type": "code",
   "execution_count": 7,
   "metadata": {},
   "outputs": [],
   "source": [
    "from youtube_transcript_api import YouTubeTranscriptApi\n",
    "from youtube_transcript_api.formatters import JSONFormatter\n",
    "from tqdm import tqdm\n",
    "import pandas as pd\n",
    "from googleapiclient.discovery import build\n"
   ]
  },
  {
   "cell_type": "code",
   "execution_count": 1,
   "metadata": {},
   "outputs": [
    {
     "ename": "IndentationError",
     "evalue": "expected an indented block (471190428.py, line 5)",
     "output_type": "error",
     "traceback": [
      "\u001b[0;36m  Cell \u001b[0;32mIn[1], line 5\u001b[0;36m\u001b[0m\n\u001b[0;31m    text = file.read()\u001b[0m\n\u001b[0m    ^\u001b[0m\n\u001b[0;31mIndentationError\u001b[0m\u001b[0;31m:\u001b[0m expected an indented block\n"
     ]
    }
   ],
   "source": [
    "api_key = text\n",
    "\n",
    "youtube = build('youtube', 'v3', developerKey=api_key)\n",
    "\n",
    "def get_all_videos(channel_id):\n",
    "    videos = []\n",
    "    next_page_token = None\n",
    "    \n",
    "    while True:\n",
    "        request = youtube.search().list(\n",
    "            part='snippet',\n",
    "            channelId=channel_id,\n",
    "            maxResults=50,  # Maximum number of results per request (50 is the maximum allowed)\n",
    "            order='date',  # Order videos by date\n",
    "            pageToken=next_page_token\n",
    "        )\n",
    "        \n",
    "        response = request.execute()\n",
    "        videos += response['items']\n",
    "        \n",
    "        next_page_token = response.get('nextPageToken')\n",
    "        \n",
    "        if not next_page_token:\n",
    "            break\n",
    "    \n",
    "    return videos\n",
    "\n",
    "# Example usage: Get all videos for a specific channel\n",
    "channel_id = \"UCYO_jab_esuFRV4b17AJtAw\"  # Replace with the channel ID of the person's channel\n",
    "videos = get_all_videos(channel_id)\n",
    "\n",
    "# Print video titles and IDs\n",
    "for video in videos:\n",
    "    try:\n",
    "        print(video['id']['videoId'],video['snippet']['title'])\n",
    "    except:\n",
    "        print(\"deleted video?\")"
   ]
  },
  {
   "cell_type": "code",
   "execution_count": 144,
   "metadata": {},
   "outputs": [
    {
     "name": "stdout",
     "output_type": "stream",
     "text": [
      "Key error encountered for video at index 77\n",
      "Key error encountered for video at index 82\n",
      "Key error encountered for video at index 94\n",
      "Key error encountered for video at index 95\n",
      "Key error encountered for video at index 97\n",
      "Key error encountered for video at index 109\n",
      "Key error encountered for video at index 123\n",
      "Key error encountered for video at index 124\n",
      "Key error encountered for video at index 128\n",
      "Key error encountered for video at index 148\n",
      "Key error encountered for video at index 172\n",
      "Key error encountered for video at index 174\n",
      "Key error encountered for video at index 175\n",
      "Key error encountered for video at index 185\n",
      "[{'video_id': '81QNyDnYtg0', 'title': 'Simulating the electric field and a moving charge'}, {'video_id': 'xJwkj25fFK4', 'title': 'How the Mandelbrot set is defined'}, {'video_id': '-ikRg-OfFHc', 'title': 'A challenging puzzle about subset sums'}, {'video_id': '-3jPW_TGATI', 'title': 'Ellipses have multiple definitions, how are these the same?'}, {'video_id': 'w-CXIqIjfRI', 'title': 'Three levels of understanding Bayes&#39; theorem'}, {'video_id': 'xIMlJUwB1m8', 'title': 'The medical test paradox (well &quot;paradox&quot;)'}, {'video_id': 'IstyL9vnybg', 'title': 'Positioned as the hardest question on a Putnam exam  (#6, 1992)'}, {'video_id': 'DWnb2UUlqd0', 'title': 'Why does light slowing imply a bend? (Beyond the tank/car analogy)'}, {'video_id': 'U3O1nzSojnc', 'title': 'The cube shadow puzzle'}, {'video_id': 'XIW-2ykgVPI', 'title': 'What does it mean that light &quot;slows down&quot; in glass?'}, {'video_id': 'vItzPPpNXEs', 'title': 'Why do we call them &quot;scalars&quot;?'}, {'video_id': 'teYL0Er4c3g', 'title': 'A beautiful international math olympiad problem'}, {'video_id': 'BTryyW7gqg4', 'title': 'Definition of a &quot;bit&quot;, in information theory'}, {'video_id': 'kpG7I2MOcnI', 'title': 'The Newton art puzzle'}, {'video_id': '3KbiJ-z0j44', 'title': 'What is a group?'}, {'video_id': 'R1e7aHBKLnM', 'title': 'How to derive a formula for π'}, {'video_id': 'tjIOqIr80ns', 'title': 'The limit of limiting arguments'}, {'video_id': 'W1gW1dHRsOw', 'title': 'For anyone who might not know how links in shorts work'}, {'video_id': 'p9i3cYMQtBY', 'title': 'Infinite Lighthouses and π'}, {'video_id': 'X4jpqCu-wlA', 'title': 'Can you even imagine 2^256?'}, {'video_id': 'GOSezO0CHss', 'title': 'Order from chaos'}, {'video_id': 'JHuxMHPATtg', 'title': 'The surface area of a sphere'}, {'video_id': 'TaopSi3Ucfc', 'title': 'A short on shorts'}, {'video_id': '4xWpQe3G9qI', 'title': 'A simple image convolution'}, {'video_id': 'BIbHGfdjc_g', 'title': 'A pretty way to add weighted dice'}, {'video_id': 'Cm-zmm0nANo', 'title': 'The split necklace puzzle (with a surprise topological solution)'}, {'video_id': 'VS9yOhwtVDY', 'title': 'These integrals all equal π, until...'}, {'video_id': 'NQFIU5Exjuo', 'title': 'The chessboard and coins puzzle'}, {'video_id': 'yZMw2rOKYwE', 'title': 'Error correction is incredible'}, {'video_id': '31xm81m0iYs', 'title': 'The barber pole effect'}, {'video_id': 'h2V3r7oBeMI', 'title': 'Prime spirals'}, {'video_id': '1tLvj_HSjPk', 'title': 'Seeing with sound'}, {'video_id': 'nXIHYB0Gp70', 'title': 'Fourier series'}, {'video_id': 'GSIuXqgPsnY', 'title': 'How prisms work (video linked above shows why light &quot;slows down&quot;)'}, {'video_id': 'VFbyGEZLMZw', 'title': 'Don&#39;t let it fool you!'}, {'video_id': 'P11ykXwx4-k', 'title': 'I&#39;m still astounded this is true'}, {'video_id': 'Cz4Q4QOuoo8', 'title': 'Answering refractive index questions from viewers | Optics puzzles 4'}, {'video_id': 'KTzGBJPuJwM', 'title': 'Understanding prisms requires understanding springs | Optics puzzles 3'}, {'video_id': '6a1fLEToyvU', 'title': '25 Math explainers you may enjoy | SoME3 results'}, {'video_id': 'aXRTczANuIs', 'title': 'Explaining the barber pole effect from origins of light | Optics puzzles 2'}, {'video_id': 'QCX62YJCmGk', 'title': 'The sugar water barber pole effect | Optics puzzles 1'}, {'video_id': 'd_qvLDhkg00', 'title': 'A pretty reason why Gaussian + Gaussian = Gaussian'}, {'video_id': 'YtkIWDE36qU', 'title': 'This pattern breaks, but for a good reason | Moser&#39;s circle problem'}, {'video_id': 'NOCsdhzo6Jg', 'title': 'How They Fool Ya (live) | Math parody of Hallelujah'}, {'video_id': 'IaSGqQa5O-M', 'title': 'Convolutions | Why X+Y in probability is a beautiful mess'}, {'video_id': 'cy8r7WSuT1I', 'title': 'Why π is in the normal distribution (beyond integral tricks)'}, {'video_id': 'zeJD6dqJ5lo', 'title': 'But what is the Central Limit Theorem?'}, {'video_id': 'KuXjwB4LzSA', 'title': 'But what is a convolution?'}, {'video_id': '851U557j6HE', 'title': 'Researchers thought this was a bug (Borwein integrals)'}, {'video_id': 'cDofhN-RJqg', 'title': 'What makes a great math explanation? | SoME2 results'}, {'video_id': 'VYQVlVoWoPY', 'title': 'How to lie using visual proofs'}, {'video_id': 'hZuYICAEN9Y', 'title': 'Summer of Math Exposition 2 Invitation'}, {'video_id': 'bOXCLR3Wric', 'title': 'Olympiad level counting  (Generating functions)'}, {'video_id': 'fRed0Xmc2Wg', 'title': 'Oh, wait, actually the best Wordle opener is not “crane”…'}, {'video_id': 'v68zYyaEmEA', 'title': 'Solving Wordle using information theory'}, {'video_id': 'ltLUadnCyi0', 'title': 'A tale of two problem solvers (Average cube shadows)'}, {'video_id': 'F3Qixy-r_rQ', 'title': '2021 Summer of Math Exposition results'}, {'video_id': 'LqbZpur38nw', 'title': 'Beyond the Mandelbrot set, an intro to holomorphic dynamics'}, {'video_id': '-RdOwhmqP5s', 'title': 'From Newton’s method to Newton’s fractal (which Newton knew nothing about)'}, {'video_id': 'ojjzXyQCzso', 'title': 'The Summer of Math Exposition'}, {'video_id': 'e50Bj7jn9IQ', 'title': 'A quick trick for computing eigenvalues | Chapter 15, Essence of linear algebra'}, {'video_id': 'O85OWBJ2ayo', 'title': 'How (and why) to raise e to the power of a matrix | DE6'}, {'video_id': 'lG4VkPoG3ko', 'title': 'The medical test paradox, and redesigning Bayes&#39; rule'}, {'video_id': 'b3NxrZOu_CE', 'title': 'Hamming codes part 2: The one-line implementation'}, {'video_id': 'X8jsijhllIA', 'title': 'But what are Hamming codes? The origin of error correction'}, {'video_id': 'mH0oCDa74tE', 'title': 'Group theory, abstraction, and the 196,883-dimensional monster'}, {'video_id': 'wTJI_WuZSwE', 'title': 'The impossible chessboard puzzle'}, {'video_id': 'QvuQH4_05LI', 'title': 'Tips to be a better problem solver [Last live lecture] | Ep. 10 Lockdown live math'}, {'video_id': 'pq9LcwC7CoY', 'title': 'Intuition for i to the power i | Ep. 9 Lockdown live math'}, {'video_id': 'D__UaR5MQao', 'title': 'The DP-3T algorithm for contact tracing (via Nicky Case)'}, {'video_id': 'elQVZLLiod4', 'title': 'The power tower puzzle | Ep. 8 Lockdown live math'}, {'video_id': '4PDoT7jtxmw', 'title': 'What makes the natural log &quot;natural&quot;? | Ep. 7 Lockdown live math'}, {'video_id': 'cEvgcoyZvB4', 'title': 'Logarithm Fundamentals | Ep. 6 Lockdown live math'}, {'video_id': 'IAEASE5GjdI', 'title': 'Imaginary interest rates | Ep. 5 Lockdown live math'}, {'video_id': 'ZxYOEwM6Wbk', 'title': 'What is Euler&#39;s formula actually saying? | Ep. 4 Lockdown live math'}, {'video_id': '5PcpBw5Hbwo', 'title': 'Complex number fundamentals | Ep. 3 Lockdown live math'}, {'video_id': 'yBw67Fb31Cs', 'title': 'Trigonometry fundamentals | Ep. 2 Lockdown live math'}, {'video_id': 'MHXO86wKeDY', 'title': 'The simpler quadratic formula | Ep. 1 Lockdown live math'}, {'video_id': 'ppWPuXsnf1Q', 'title': 'Lockdown math announcement'}, {'video_id': 'ZA4JkHKZM50', 'title': 'Why “probability of 0” does not mean “impossible” | Probabilities of probabilities, part 2'}, {'video_id': 'gxAaO2rsdIs', 'title': 'Simulating an epidemic'}, {'video_id': '8idr1WZ1A7Q', 'title': 'Binomial distributions | Probabilities of probabilities, part 1'}, {'video_id': 'Kas0tIxDvrg', 'title': 'Exponential growth and epidemics'}, {'video_id': 'U_85TaXbeIo', 'title': 'The quick proof of Bayes&#39; theorem'}, {'video_id': 'HZGCoVF3YvM', 'title': 'Bayes theorem, the geometry of changing beliefs'}, {'video_id': 'Agbh95KyWxY', 'title': 'Q&amp;A with Grant, windy walk edition'}, {'video_id': 'EK32jo7i5LQ', 'title': 'Why do prime numbers make these spirals? | Dirichlet’s theorem and pi approximations'}, {'video_id': 'M64HUIJFTZM', 'title': 'The unexpectedly hard windmill question (2011 IMO, Q2)'}, {'video_id': 'v0YEaeIClKY', 'title': 'e^(iπ) in 3.14 minutes, using dynamics | DE5'}, {'video_id': '-qgreAUpPwM', 'title': 'Pure Fourier series animation montage'}, {'video_id': 'r6sGWTCMz2k', 'title': 'But what is a Fourier series?  From heat flow to drawing with circles | DE4'}, {'video_id': 'ToIXSwZ1pJU', 'title': 'Solving the heat equation | DE3'}, {'video_id': 'ly4S0oi3Yz8', 'title': 'But what is a partial differential equation?  | DE2'}, {'video_id': 'p_di4Zn4wz4', 'title': 'Differential equations, a tourist&#39;s guide | DE1'}, {'video_id': 'jBsC34PxzoM', 'title': 'Cramer&#39;s rule, explained geometrically | Chapter 12, Essence of linear algebra'}, {'video_id': 'brU5yLm9DZM', 'title': 'How colliding blocks act like a beam of light...to compute pi.'}, {'video_id': 'jsYwFizhncE', 'title': 'Why do colliding blocks compute pi?'}, {'video_id': 'HEfHFsfGXjs', 'title': 'The most unexpected answer to a counting puzzle'}, {'video_id': 'GNcFjFmqEc8', 'title': 'But why is a sphere&#39;s surface area four times its shadow?'}, {'video_id': 'yuVqxCSsE7c', 'title': 'Using topology for discrete problems | The Borsuk-Ulam theorem and stolen necklaces'}, {'video_id': '_UoTTq651dE', 'title': 'Why 5/3 is a fundamental constant for turbulence'}, {'video_id': 'zjMuIxRvygQ', 'title': 'Quaternions and 3d rotation, explained interactively'}, {'video_id': 'd4EgbgTm0Bg', 'title': 'Visualizing quaternions (4d numbers) with stereographic projection'}, {'video_id': 'Qe6o9j4IjTo', 'title': 'Q&amp;A with Grant Sanderson (3blue1brown)'}, {'video_id': 'pQa_tWZmlGs', 'title': 'Why slicing a cone gives an ellipse (beautiful proof)'}, {'video_id': 'VcgJro0sTiM', 'title': 'Other math channels you&#39;d enjoy'}, {'video_id': 'rB83DpBJQsE', 'title': 'Divergence and curl:  The language of Maxwell&#39;s equations, fluid flow, and more'}, {'video_id': 'CfW845LNObM', 'title': 'The other way to visualize derivatives | Chapter 12, Essence of calculus'}, {'video_id': '8GPy_UMV-08', 'title': 'The Wallis product for pi, proved geometrically'}, {'video_id': 'b7FxPsqfkOY', 'title': 'Winding numbers and domain coloring'}, {'video_id': 'bcPTiiiYDs8', 'title': 'How pi was almost 6.283185...'}, {'video_id': 'd-o3eB9sfls', 'title': 'Why is pi here?  And why is it squared?  A geometric answer to the Basel problem'}, {'video_id': 'MBnnXbOM5S4', 'title': 'The more general uncertainty principle, regarding Fourier transforms'}, {'video_id': 'spUNpyF58BY', 'title': 'But what is the Fourier Transform?  A visual introduction.'}, {'video_id': 'VvCytJvd4H0', 'title': 'Why this puzzle is impossible'}, {'video_id': 'liL66CApESk', 'title': 'Q&amp;A #2 + Net Neutrality Nuance'}, {'video_id': 'OkmNXy7er84', 'title': 'The hardest problem on the hardest test'}, {'video_id': 'tIeHLnjs5U8', 'title': 'Backpropagation calculus | Chapter 4, Deep learning'}, {'video_id': 'Ilg3gGewQ5U', 'title': 'What is backpropagation really doing? | Chapter 3, Deep learning'}, {'video_id': 'IHZwWFHWa-w', 'title': 'Gradient descent, how neural networks learn | Chapter 2, Deep learning'}, {'video_id': 'aircAruvnKk', 'title': 'But what is a neural network? | Chapter 1, Deep learning'}, {'video_id': 'MzRCDLre1b4', 'title': 'Some light quantum mechanics (with minutephysics)'}, {'video_id': 'zwAD6dRSVyI', 'title': 'Thinking outside the 10-dimensional box'}, {'video_id': '3s7h2MHQtxc', 'title': 'Hilbert&#39;s Curve: Is infinite math useful?'}, {'video_id': 'S9JGmA5_unY', 'title': 'How secure is 256 bit security?'}, {'video_id': 'bBC-nXj3Ng4', 'title': 'But how does bitcoin actually work?'}, {'video_id': 'QJYmyhnaaek', 'title': 'All possible pythagorean triples, visualized'}, {'video_id': 'NaL_Cb42WyY', 'title': 'Pi hiding in prime regularities'}, {'video_id': '3d6DsjIBzJ4', 'title': 'Taylor series | Chapter 11, Essence of calculus'}, {'video_id': 'BLkz5LGWihw', 'title': 'Higher order derivatives | Chapter 10, Essence of calculus'}, {'video_id': 'FnJqaIESC2s', 'title': 'What does area have to do with slope? | Chapter 9, Essence of calculus'}, {'video_id': 'rfG8ce4nNh0', 'title': 'Integration and the fundamental theorem of calculus | Chapter 8, Essence of calculus'}, {'video_id': 'kfF40MiS7zA', 'title': 'Limits, L&#39;Hôpital&#39;s rule, and epsilon delta definitions | Chapter 7, Essence of calculus'}, {'video_id': 'qb40J4N1fa4', 'title': 'Implicit differentiation, what&#39;s going on here? | Chapter 6, Essence of calculus'}, {'video_id': 'm2MIpDrF7Es', 'title': 'What&#39;s so special about Euler&#39;s number e? | Chapter 5, Essence of calculus'}, {'video_id': 'YG15m2VwSjA', 'title': 'Visualizing the chain rule and product rule | Chapter 4, Essence of calculus'}, {'video_id': 'S0_qX4VJhMQ', 'title': 'Derivative formulas through geometry | Chapter 3, Essence of calculus'}, {'video_id': '9vKqVkMQHKk', 'title': 'The paradox of the derivative | Chapter 2, Essence of calculus'}, {'video_id': 'WUvTyaaNkzM', 'title': 'The essence of calculus'}, {'video_id': 'mvmuCPvRoWQ', 'title': 'Euler&#39;s formula with introductory group theory'}, {'video_id': 'gB9n2gHsHN4', 'title': 'Fractals are typically not self-similar'}, {'video_id': 'IxNb1WG_Ido', 'title': 'Tattoos on Math'}, {'video_id': 'sD0NjbwqlYw', 'title': 'But what is the Riemann zeta function? Visualizing analytic continuation'}, {'video_id': 'bdMfjfT0lKk', 'title': 'Binary, Hanoi, and Sierpinski, part 2'}, {'video_id': 'R7p-nPg8t_g', 'title': '3blue1brown channel trailer'}, {'video_id': '2SUvWfNJSsM', 'title': 'Binary, Hanoi and Sierpinski, part 1'}, {'video_id': 'AmgkSdhK4K8', 'title': 'Who cares about topology?   (Inscribed rectangle problem)'}, {'video_id': 'TgKwz5Ikpc8', 'title': 'Abstract vector spaces | Chapter 16, Essence of linear algebra'}, {'video_id': 'PFDu9oVAE-g', 'title': 'Eigenvectors and eigenvalues | Chapter 14, Essence of linear algebra'}, {'video_id': 'P2LTAUO1TdA', 'title': 'Change of basis | Chapter 13, Essence of linear algebra'}, {'video_id': 'BaM7OCEm3G0', 'title': 'Cross products in the light of linear transformations | Chapter 11, Essence of linear algebra'}, {'video_id': 'eu6i7WJeinw', 'title': 'Cross products | Chapter 10, Essence of linear algebra'}, {'video_id': 'LyGKycYT2v0', 'title': 'Dot products and duality | Chapter 9, Essence of linear algebra'}, {'video_id': 'v8VSDg_WQlA', 'title': 'Nonsquare matrices as transformations between dimensions | Chapter 8, Essence of linear algebra'}, {'video_id': 'uQhTuRlWMxw', 'title': 'Inverse matrices, column space and null space | Chapter 7, Essence of linear algebra'}, {'video_id': 'Ip3X9LOh2dk', 'title': 'The determinant | Chapter 6, Essence of linear algebra'}, {'video_id': 'rHLEWRxRGiM', 'title': 'Three-dimensional linear transformations | Chapter 5, Essence of linear algebra'}, {'video_id': 'XkY2DOUCWMU', 'title': 'Matrix multiplication as composition | Chapter 4, Essence of linear algebra'}, {'video_id': 'kYB8IZa5AuE', 'title': 'Linear transformations and matrices | Chapter 3, Essence of linear algebra'}, {'video_id': 'k7RM-ot2NWY', 'title': 'Linear combinations, span, and basis vectors | Chapter 2, Essence of linear algebra'}, {'video_id': 'fNk_zzaMoSs', 'title': 'Vectors | Chapter 1, Essence of linear algebra'}, {'video_id': 'kjBOesZCoqc', 'title': 'Essence of linear algebra preview'}, {'video_id': 'sULa9Lc4pck', 'title': 'Triangle of Power'}, {'video_id': 'Iq1a_KJTWJ8', 'title': 'Snell&#39;s law proof using springs'}, {'video_id': 'Cld0p3a43fU', 'title': 'The Brachistochrone, with Steven Strogatz'}, {'video_id': 'RU0wScIj36o', 'title': 'Fractal charm: Space filling curves'}, {'video_id': 'cyW5z-M2yzw', 'title': 'Music And Measure Theory'}, {'video_id': '1SMmc9gQmHQ', 'title': 'How to count to 1000 on two hands'}, {'video_id': 'XFDM1ip5HdU', 'title': 'What does it feel like to invent math?'}, {'video_id': '-9OUyo8NFZg', 'title': 'Euler&#39;s Formula and Graph Duality'}, {'video_id': 'zLzLxVeqdQg', 'title': 'Euler&#39;s Formula Poem'}, {'video_id': 'F_0yfvm0UoU', 'title': 'e to the pi i, a nontraditional take (old version)'}]\n"
     ]
    }
   ],
   "source": [
    "video_dict = []\n",
    "\n",
    "for i, video in enumerate(videos):\n",
    "    try:\n",
    "        video_id = video['id']['videoId']\n",
    "        title = video['snippet']['title']\n",
    "        video_dict.append({'video_id': video_id, 'title': title})\n",
    "    except KeyError:\n",
    "        print(f\"Key error encountered for video at index {i}\")\n",
    "\n",
    "df_transcript_all_videos = pd.DataFrame()\n",
    "\n",
    "formatter = JSONFormatter()\n",
    "for key, value in tqdm(enumerate(video_dict),total=len(video_dict)):\n",
    "    transcript_video = YouTubeTranscriptApi.get_transcript(value['video_id'],languages=['en'])\n",
    "    df_transcript = pd.DataFrame(transcript_video)\n",
    "    df_transcript['video_id'] = value['video_id']\n",
    "    df_transcript['video_title'] = value['title']\n",
    "    df_transcript_all_videos = pd.concat([df_transcript_all_videos, df_transcript], axis=0, ignore_index=True)\n",
    "    \n",
    "df_transcript_all_videos.to_json('df.json', orient='records', lines=True)\n"
   ]
  }
 ],
 "metadata": {
  "kernelspec": {
   "display_name": "kaggle",
   "language": "python",
   "name": "python3"
  },
  "language_info": {
   "codemirror_mode": {
    "name": "ipython",
    "version": 3
   },
   "file_extension": ".py",
   "mimetype": "text/x-python",
   "name": "python",
   "nbconvert_exporter": "python",
   "pygments_lexer": "ipython3",
   "version": "3.9.18"
  }
 },
 "nbformat": 4,
 "nbformat_minor": 2
}
