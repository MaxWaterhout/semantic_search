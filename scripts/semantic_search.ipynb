{
 "cells": [
  {
   "cell_type": "code",
   "execution_count": 2,
   "metadata": {},
   "outputs": [
    {
     "name": "stderr",
     "output_type": "stream",
     "text": [
      "/home/max/anaconda3/envs/kaggle/lib/python3.9/site-packages/tqdm/auto.py:21: TqdmWarning: IProgress not found. Please update jupyter and ipywidgets. See https://ipywidgets.readthedocs.io/en/stable/user_install.html\n",
      "  from .autonotebook import tqdm as notebook_tqdm\n"
     ]
    }
   ],
   "source": [
    "from sentence_transformers import SentenceTransformer,util\n",
    "import pandas as pd\n",
    "import torch"
   ]
  },
  {
   "cell_type": "code",
   "execution_count": 3,
   "metadata": {},
   "outputs": [],
   "source": [
    "def group_and_join_by_time(start_times, text_column, time_interval=5):\n",
    "    grouped_text = []\n",
    "    current_group = []\n",
    "    current_time = 0\n",
    "\n",
    "    for start, text in zip(start_times, text_column):\n",
    "        if start - current_time > time_interval:\n",
    "            grouped_text.append(' '.join(current_group))\n",
    "            current_group = []\n",
    "            current_time = start\n",
    "        current_group.append(text)\n",
    "\n",
    "    # Add the last group\n",
    "    if current_group:\n",
    "        grouped_text.append(' '.join(current_group))\n",
    "\n",
    "    return grouped_text"
   ]
  },
  {
   "cell_type": "code",
   "execution_count": 4,
   "metadata": {},
   "outputs": [
    {
     "name": "stderr",
     "output_type": "stream",
     "text": [
      "/tmp/ipykernel_671379/4287534716.py:4: DeprecationWarning: DataFrameGroupBy.apply operated on the grouping columns. This behavior is deprecated, and in a future version of pandas the grouping columns will be excluded from the operation. Either pass `include_groups=False` to exclude the groupings or explicitly select the grouping columns after groupby to silence this warning.\n",
      "  grouped_text_by_time = df.groupby(['video_id','video_title']).apply(lambda group: group_and_join_by_time(group['start'], group['text']))\n"
     ]
    }
   ],
   "source": [
    "df = pd.read_json('df.json',lines=True)\n",
    "\n",
    "# Apply the function to group and join text every 5 seconds\n",
    "grouped_text_by_time = df.groupby(['video_id','video_title']).apply(lambda group: group_and_join_by_time(group['start'], group['text']))\n",
    "\n",
    "expanded_texts = []\n",
    "expanded_start_times = []\n",
    "video_ids = []\n",
    "video_titles = []\n",
    "\n",
    "\n",
    "for value, sentences in grouped_text_by_time.items():\n",
    "    video_id = value[0]\n",
    "    video_title = value[1]\n",
    "\n",
    "    start_times = list(range(0, len(sentences) * 5, 5))\n",
    "   # Extend the lists with the expanded data\n",
    "    expanded_texts.extend(sentences)\n",
    "    expanded_start_times.extend(start_times)\n",
    "    video_ids.extend([video_id] * len(sentences))\n",
    "    video_titles.extend([video_title] * len(sentences))  # Extend with the corresponding video_title\n",
    "\n",
    "# Create DataFrame from the expanded data\n",
    "df_expanded = pd.DataFrame({'video_id': video_ids,'video_title':video_titles, 'start_time': expanded_start_times, 'text': expanded_texts})\n",
    "\n",
    "model_semantic_search = SentenceTransformer(\"all-MiniLM-L6-v2\")\n",
    "\n",
    "# Sentences are encoded by calling model.encode()\n",
    "passage_embedding = model_semantic_search.encode(df_expanded.iloc[0:3]['text'].tolist())\n",
    "\n",
    "df_expanded['passage_embedding'] = passage_embedding.tolist()"
   ]
  },
  {
   "cell_type": "code",
   "execution_count": null,
   "metadata": {},
   "outputs": [],
   "source": [
    "\n"
   ]
  }
 ],
 "metadata": {
  "kernelspec": {
   "display_name": "kaggle",
   "language": "python",
   "name": "python3"
  },
  "language_info": {
   "codemirror_mode": {
    "name": "ipython",
    "version": 3
   },
   "file_extension": ".py",
   "mimetype": "text/x-python",
   "name": "python",
   "nbconvert_exporter": "python",
   "pygments_lexer": "ipython3",
   "version": "3.9.18"
  }
 },
 "nbformat": 4,
 "nbformat_minor": 2
}
